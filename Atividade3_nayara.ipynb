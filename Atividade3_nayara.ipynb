{
 "cells": [
  {
   "cell_type": "markdown",
   "id": "67f79c9e-3df7-4456-b4e1-8ec313e40c51",
   "metadata": {},
   "source": [
    "## **DEVER DE CASA** \n",
    " \n",
    "Criar um programa em Python que permite ao usuário registrar o nome dos alunos e suas cidades de origem em um dicionário, e consultar essas informações pelo nome do aluno. _Consulte pelo menos 5 colegas de classe._\n",
    "\n",
    "\n",
    "_OBSERVAÇÕES: Usei funções para a resolução desse exercício_\n",
    "_Realizado por Nayara de Oliveira Brabo_"
   ]
  },
  {
   "cell_type": "markdown",
   "id": "60eafd22-5b96-4244-9a8f-f64185568d41",
   "metadata": {},
   "source": [
    "### Lista com os nomes e cidades\n",
    "\n",
    "- Natália Berti - São Paulo/SP\n",
    "- ⁠Thiago Costa Santana - Caieiras/SP\n",
    "- ⁠Tatiana Beltrão- Recife/PE\n",
    "- ⁠Júlio César - Cunha/SP\n",
    "- ⁠Leandro Tezzon - Jundiaí/SP\n",
    "- ⁠João Pedro - Manaira/PB\n",
    "- ⁠Guilherme Fernandes - Recife/PE\n",
    "- Mariana Godoy - Valparaíso de Goiás/ Go\n",
    "- Manaby Barbosa - Santa Maria/DF\n",
    "- ⁠Kátia Santos - São Paulo - Capital\n",
    "- ⁠Gabriel Tiggi - Franco da Rocha - Sp\n",
    "- Gabryel Gomes - Goiânia -Go\n",
    "- Gleicilene de Andrade - Recife - PE\n",
    "- Iuri Henrique dos Santos -Fortaleza - CE\n",
    "- Felipe Vellasco - Jundiaí - SP\n",
    "- Marcos Gonçalves - Piracicaba/SP\n",
    "- Débora Carolina - Mogi Mirim/SP\n",
    "- ⁠Mariana Sales Bossa - Araraquara/SP\n",
    "- Ellen Nascimento  - Recife - PE\n",
    "- ⁠William Nogueira - Jundiaí/SP\n",
    "- Lívia Marcilio - Garanhuns/PE\n",
    "- Nayara de Oliveira Brabo - Caieiras/SP\n",
    "- Letícia Araújo Costa - Brasília-DF\n",
    "- Reinaldo Santos - Aquiraz/CE"
   ]
  },
  {
   "cell_type": "markdown",
   "id": "941d6b6b-d298-461d-8a35-6195878089d9",
   "metadata": {},
   "source": [
    "-----"
   ]
  },
  {
   "cell_type": "code",
   "execution_count": null,
   "id": "bb818f9e-2e88-4a41-838b-6c3ace709b15",
   "metadata": {},
   "outputs": [
    {
     "name": "stdout",
     "output_type": "stream",
     "text": [
      "------- MENU PRINCIPAL -------\n",
      "|    1 - Adicionar aluno      |\n",
      "|    2 - Consultar aluno      |\n",
      "|          3 - Sair           |\n",
      "------------------------------\n"
     ]
    }
   ],
   "source": [
    "def exibir_menu():         ## FUNÇÃO PARA O MENU\n",
    "    print(' MENU PRINCIPAL '.center(30, '-'))\n",
    "    print('|'+'1 - Adicionar aluno'.center(28, ' '), '|')\n",
    "    print('|'+'2 - Consultar aluno'.center(28, ' '), '|')\n",
    "    print('|'+'3 - Sair'.center(28, ' '), '|')\n",
    "    print('-' * 30)\n",
    "\n",
    "def adicionar_aluno(dicionario_alunos):        ## FUNÇÃO PARA ADICIONAR O ALUNO\n",
    "    print('\\n'+' ADICIONAR ALUNO '.center(30, '-'))\n",
    "    nome = input(\"Digite o nome do aluno: \")\n",
    "    cidade = input(\"Digite a cidade de origem do aluno: \")\n",
    "    dicionario_alunos[nome] = cidade             # Adicionando os dados ao dicionário\n",
    "    print(f'\\nAluno {nome} de {cidade} adicionado com sucesso!'+'\\n')\n",
    "\n",
    "def consultar_aluno(dicionario_alunos):   ## FUNÇÃO PARA BUSCAR O ALUNO\n",
    "    print('\\n'+' CONSULTAR ALUNO '.center(30, '-'))\n",
    "    nome = input(\"Digite o nome do aluno que deseja consultar: \")\n",
    "    if nome in dicionario_alunos:\n",
    "        print(f'\\nAluno {nome} é de {dicionario_alunos[nome]}'+'\\n')\n",
    "    else:\n",
    "        print(f'\\nAluno {nome} não encontrado.\\n')\n",
    "\n",
    "def main():    ## ## FUNÇÃO TAREFAS\n",
    "    dicionario_alunos = {}\n",
    "    while True:\n",
    "        exibir_menu()\n",
    "        opcao = input('Escolha uma opção: ')\n",
    "        \n",
    "        if opcao == '1':\n",
    "            adicionar_aluno(dicionario_alunos)\n",
    "        elif opcao == '2':\n",
    "            consultar_aluno(dicionario_alunos)\n",
    "        elif opcao == '3':\n",
    "            print('\\n'+'FIM DO PROGRAMA'.center(30, '-'))\n",
    "            break\n",
    "        else:\n",
    "            print('\\nOpção inválida! Tente novamente.\\n')\n",
    "\n",
    "if __name__ == '__main__':  ##CHAMAR FUNÇÃO\n",
    "    main()"
   ]
  },
  {
   "cell_type": "code",
   "execution_count": null,
   "id": "3a5d1566-2c0b-4214-9169-aa306cca980d",
   "metadata": {},
   "outputs": [],
   "source": []
  }
 ],
 "metadata": {
  "kernelspec": {
   "display_name": "Python 3 (ipykernel)",
   "language": "python",
   "name": "python3"
  },
  "language_info": {
   "codemirror_mode": {
    "name": "ipython",
    "version": 3
   },
   "file_extension": ".py",
   "mimetype": "text/x-python",
   "name": "python",
   "nbconvert_exporter": "python",
   "pygments_lexer": "ipython3",
   "version": "3.11.7"
  }
 },
 "nbformat": 4,
 "nbformat_minor": 5
}
