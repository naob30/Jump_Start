{
 "cells": [
  {
   "cell_type": "markdown",
   "id": "63efde3c-9ddb-4b3e-a82d-d3430209dca0",
   "metadata": {},
   "source": [
    "## Exercícios: Pesquisa a utilidade e dê um exemplo de como utilizar as seguintes funções:\n",
    "- upper                                         \n",
    "- lower                                         \n",
    "- split\n",
    "- capitalize\n",
    "- count\n",
    "- find\n",
    "- center\n",
    "- isalpha\n",
    "- isalnum\n",
    "- islower\n",
    "- sspace\n",
    "- endswith\n",
    "- partition"
   ]
  },
  {
   "cell_type": "markdown",
   "id": "38fee5d5-e8de-443b-a4c4-99f8c5c92102",
   "metadata": {},
   "source": [
    "## UPPER\n",
    "\n",
    "#### SYNTAX - string.upper()"
   ]
  },
  {
   "cell_type": "markdown",
   "id": "bfc7dbba-01d0-43b6-bd6b-74ba67a3fb41",
   "metadata": {},
   "source": [
    "Altera todo o texto para MAIÚSCULAS. \n",
    "Os números ficam inalterados.\n",
    "\n",
    "Usamos o método .upper() para formatar uma string. Esse método garante que a string fique com todas as letras em MAIÚSCULO. "
   ]
  },
  {
   "cell_type": "code",
   "execution_count": 34,
   "id": "a8d40380-c64b-4526-a8ec-40ab8397a6f8",
   "metadata": {},
   "outputs": [
    {
     "name": "stdin",
     "output_type": "stream",
     "text": [
      "Nome completo:  Nayara de Oliveira Brabo\n"
     ]
    },
    {
     "name": "stdout",
     "output_type": "stream",
     "text": [
      "NAYARA DE OLIVEIRA BRABO\n"
     ]
    }
   ],
   "source": [
    "nome = input('Nome completo: ')\n",
    "print(nome.upper())"
   ]
  },
  {
   "cell_type": "markdown",
   "id": "26b42347-a37f-4dcb-bb89-86bb0d71f0af",
   "metadata": {},
   "source": [
    "## LOWER\n",
    "\n",
    "#### SYNTAX - string.lower()"
   ]
  },
  {
   "cell_type": "raw",
   "id": "0f7dbf90-b8ad-4921-9c17-444b6b702988",
   "metadata": {},
   "source": [
    "Altera todo o texto para MINÚSCULO. \n",
    "Os números ficam inalterados.\n",
    "\n",
    "Usamos o método .lower() para formatar uma string. Esse método garante que a string fique com todas as letras minúsculas. "
   ]
  },
  {
   "cell_type": "code",
   "execution_count": 35,
   "id": "df37cd7e-5c7a-485a-b245-ba1d8c18e572",
   "metadata": {},
   "outputs": [
    {
     "name": "stdout",
     "output_type": "stream",
     "text": [
      "True\n"
     ]
    }
   ],
   "source": [
    "email_cadastrado = \"NayaraBrabo@Gmail.Com\"\n",
    "email_digitado = \"nayarabrabo@gmail.com\"\n",
    "\n",
    "emails_iguais = email_cadastrado.lower() == email_digitado.lower()\n",
    "\n",
    "print(emails_iguais)"
   ]
  },
  {
   "cell_type": "markdown",
   "id": "d23783e2-44bd-4c87-ae58-b645a626ae6e",
   "metadata": {},
   "source": [
    "## SPLIT\n",
    "\n",
    "#### SYNTAX - string.split(separator, maxsplit)\n",
    "- separator - Opcional. Especifica o separador a ser usado ao dividir a sequência. Por padrão, qualquer espaço em branco é um separador.\n",
    "- maxsplit - Opcional. Especifica quantas divisões fazer. O valor padrão é -1, que é “todas as ocorrências”"
   ]
  },
  {
   "cell_type": "raw",
   "id": "7441947c-f467-46c6-9a4f-cc234356610e",
   "metadata": {},
   "source": [
    "Separa o texto da string baseado em algum caractere indicado. O SPLIT enxerga a string como uma lista de elementos que podem ser acessados e manipulados separadamente. Isso abre uma janela de oportunidades para que a edição seja feita, de acordo com a vontade do programador."
   ]
  },
  {
   "cell_type": "code",
   "execution_count": 36,
   "id": "625439ce-8898-495b-99fc-10d05047bc26",
   "metadata": {},
   "outputs": [
    {
     "name": "stdout",
     "output_type": "stream",
     "text": [
      "['Nayara', '24', 'Brasil'] \n",
      "\n",
      "Nome: Nayara \n",
      "Idade: 24\n",
      "País: Brasil\n"
     ]
    }
   ],
   "source": [
    "linha_csv = \"Nayara,24,Brasil\"\n",
    "dados = linha_csv.split(',')\n",
    "\n",
    "print(dados,'\\n')\n",
    "\n",
    "nome, idade, pais = dados\n",
    "\n",
    "print(f\"Nome: {nome} \\nIdade: {idade}\\nPaís: {pais}\")"
   ]
  },
  {
   "cell_type": "markdown",
   "id": "b9fa25c1-ab1f-421f-9d48-2412f7b70be4",
   "metadata": {},
   "source": [
    "## CAPITALIZE\n",
    "\n",
    "#### SYNTAX - string.capitalize()"
   ]
  },
  {
   "cell_type": "raw",
   "id": "ee3d35ad-0132-4418-aef4-bb04d8544826",
   "metadata": {},
   "source": [
    "Altera APENAS a primeira letra de uma string em maiúscula. \n",
    "Usamos o método .capitalize() para formatar uma string. "
   ]
  },
  {
   "cell_type": "code",
   "execution_count": 37,
   "id": "ee11f8e5-e7f3-45c6-b352-e9f9f928075e",
   "metadata": {},
   "outputs": [
    {
     "name": "stdout",
     "output_type": "stream",
     "text": [
      "Análise de dados em python\n"
     ]
    }
   ],
   "source": [
    "texto = 'aNáLise de dAdoS em PYTHON'\n",
    "print(texto.capitalize())"
   ]
  },
  {
   "cell_type": "markdown",
   "id": "ca1715e7-9970-478f-8f6d-61cf22802f89",
   "metadata": {},
   "source": [
    "## COUNT\n",
    "\n",
    "#### SYNTAX - string.count(value, start, end)\n",
    "- value - Obrigatório. Uma linha. A string do valor a ser pesquisado\n",
    "- start - Opcional. Um inteiro. A posição para iniciar a pesquisa. O padrão é 0\n",
    "- end - Opcional. Um inteiro. A posição para finalizar a pesquisa. O padrão é o final da string"
   ]
  },
  {
   "cell_type": "raw",
   "id": "ec45aff1-f05d-4182-b843-294fb91b6150",
   "metadata": {},
   "source": [
    "Conta o número de vezes que um caractere específico ou palavra aparece na STRING."
   ]
  },
  {
   "cell_type": "code",
   "execution_count": 38,
   "id": "4aa00826-bf0b-4293-929d-4ac14be396ff",
   "metadata": {},
   "outputs": [
    {
     "name": "stdout",
     "output_type": "stream",
     "text": [
      "2\n"
     ]
    }
   ],
   "source": [
    "texto = \"A análise de dados é importante. A análise correta pode revelar tendências.\"\n",
    "frequencia_analise = texto.lower().count('análise')\n",
    "print(frequencia_analise)"
   ]
  },
  {
   "cell_type": "markdown",
   "id": "0b4e326b-9043-4313-abc5-211a38218e50",
   "metadata": {},
   "source": [
    "## FIND\n",
    "\n",
    "#### SYNTAX - string.find(value, start, end)\n",
    "- value - \n",
    "Obrigatório. O valor a ser pesquisado\n",
    "- start - Opcional. Um inteiro. A posição para iniciar a pesquisa. O padrão é 0\n",
    "- end - Opcional. Um inteiro. A posição para finalizar a pesquisa. O padrão é o final da stringring"
   ]
  },
  {
   "cell_type": "raw",
   "id": "66d5fc13-0eb5-464e-a63a-d4de07e96ee2",
   "metadata": {},
   "source": [
    "Encontra a posição do termo procurado.\n",
    "Lembrar que a contagem de posição se inicia em [0]"
   ]
  },
  {
   "cell_type": "code",
   "execution_count": 46,
   "id": "38ac9a02-e013-4598-b743-a561630199da",
   "metadata": {},
   "outputs": [
    {
     "name": "stdout",
     "output_type": "stream",
     "text": [
      "43\n"
     ]
    }
   ],
   "source": [
    "documento = \"Este é um documento importante. Ele contém informações sensíveis.\"\n",
    "\n",
    "indice_informacoes = documento.find('informações')\n",
    "\n",
    "print(indice_informacoes)"
   ]
  },
  {
   "cell_type": "markdown",
   "id": "b13a6695-404b-483e-86de-42dea6b7679b",
   "metadata": {},
   "source": [
    "## CENTER\n",
    "\n",
    "#### SYNTAX - string.center(length, character)\n",
    "- length - Obrigatório. O comprimento da string retornada\n",
    "- character - Opcional. O personagem para preencher o espaço que falta em cada lado. O padrão é \" \" (espaço).\n",
    "g"
   ]
  },
  {
   "cell_type": "raw",
   "id": "934555a6-0d48-4b65-894d-07ec5265cc05",
   "metadata": {},
   "source": [
    "O método center() alinhará a string ao centro, usando um caractere especificado (espaço é o padrão) como caractere de preenchimento."
   ]
  },
  {
   "cell_type": "code",
   "execution_count": 39,
   "id": "c48750b2-9779-4075-a697-283aaafbd391",
   "metadata": {},
   "outputs": [
    {
     "name": "stdout",
     "output_type": "stream",
     "text": [
      "------ Relatório Mensal ------\n"
     ]
    }
   ],
   "source": [
    "titulo = \" Relatório Mensal \"\n",
    "\n",
    "titulo_formatado = titulo.center(30, '-')\n",
    "\n",
    "print(titulo_formatado)"
   ]
  },
  {
   "cell_type": "markdown",
   "id": "0e98a5c9-9f63-434d-afab-55f8d5ff1f0d",
   "metadata": {},
   "source": [
    "## ISALNUM\n",
    "\n",
    "#### SYNTAX - string.isalnum()"
   ]
  },
  {
   "cell_type": "raw",
   "id": "fdbfebfd-e858-42ee-8539-61fdcfc30d49",
   "metadata": {},
   "source": [
    "Verifica se um texto é todo feito com caracteres alfanuméricos (letras e números) \n",
    "-> letras com acento ou ç são considerados letras para essa função."
   ]
  },
  {
   "cell_type": "code",
   "execution_count": 40,
   "id": "46583b6c-fef6-47dc-a29c-e7e9674c9085",
   "metadata": {},
   "outputs": [
    {
     "name": "stdout",
     "output_type": "stream",
     "text": [
      "True\n"
     ]
    }
   ],
   "source": [
    "usuario = \"usuario123\"\n",
    "\n",
    "valido = usuario.isalnum()\n",
    "\n",
    "print(valido)"
   ]
  },
  {
   "cell_type": "markdown",
   "id": "3745bbe8-3f95-44e5-924c-39d2051d144a",
   "metadata": {},
   "source": [
    "## ISALPHA\n",
    "\n",
    "#### SYNTAX - string.isalpha()"
   ]
  },
  {
   "cell_type": "raw",
   "id": "eb48ba37-90db-45ff-b109-17a915335cab",
   "metadata": {},
   "source": [
    "Verifica se um texto é todo feito de letras.\n",
    "Caso o texto fosse ‘João123’, o retorno seria FALSE visto que 123 não são letras."
   ]
  },
  {
   "cell_type": "code",
   "execution_count": 2,
   "id": "1f829368-13b5-43dd-aa82-ba5037c9a364",
   "metadata": {},
   "outputs": [
    {
     "name": "stdout",
     "output_type": "stream",
     "text": [
      "True\n"
     ]
    }
   ],
   "source": [
    "nome = \"Nayara\"\n",
    "\n",
    "nome_valido = nome.isalpha()\n",
    "\n",
    "print(nome_valido)"
   ]
  },
  {
   "cell_type": "markdown",
   "id": "5ba177eb-99da-49fa-b28f-c82875c49209",
   "metadata": {},
   "source": [
    "## ISLOWER\n",
    "\n",
    "#### SYNTAX - string.islower()"
   ]
  },
  {
   "cell_type": "raw",
   "id": "d6100bc6-b761-4736-983b-52ace45e472b",
   "metadata": {},
   "source": [
    "Verifica se todos os caracteres da string estão em minúsculas. Útil para verificações de formato."
   ]
  },
  {
   "cell_type": "code",
   "execution_count": 42,
   "id": "fc21d367-4d2f-49dd-ad83-f53d2c461b4a",
   "metadata": {},
   "outputs": [
    {
     "name": "stdout",
     "output_type": "stream",
     "text": [
      "True\n"
     ]
    }
   ],
   "source": [
    "senha = \"senha123\"\n",
    "\n",
    "minuscula = senha.islower()\n",
    "\n",
    "print(minuscula)"
   ]
  },
  {
   "cell_type": "markdown",
   "id": "d725fa3b-bcd1-432a-bc29-4f0dc2e6431f",
   "metadata": {},
   "source": [
    "## ISSPACE\n",
    "\n",
    "#### SYNTAX - string.isspace()"
   ]
  },
  {
   "cell_type": "raw",
   "id": "73e85c8f-6d83-400c-8371-7a613d2035ba",
   "metadata": {},
   "source": [
    "Verifica se todos os caracteres da string são espaços em branco. Útil para validação de entradas vazias."
   ]
  },
  {
   "cell_type": "code",
   "execution_count": 43,
   "id": "4f10dcfa-2c95-4ee8-b7cb-9cc0b28d760f",
   "metadata": {},
   "outputs": [
    {
     "name": "stdout",
     "output_type": "stream",
     "text": [
      "True\n"
     ]
    }
   ],
   "source": [
    "entrada = \"   \"\n",
    "\n",
    "espaco = entrada.isspace()\n",
    "\n",
    "print(espaco)"
   ]
  },
  {
   "cell_type": "markdown",
   "id": "76aeff73-f359-425b-8300-48a2dfa52ee5",
   "metadata": {},
   "source": [
    "## ENDSWITH\n",
    "\n",
    "#### SYNTAX - string.endswith(value, start, end)\n",
    "- value - Obrigatório. O valor para verificar se a string termina com o elemento indicado\n",
    "- start - Opcional. Um inteiro. A posição para iniciar a pesquisa. O padrão é 0\n",
    "- end - Opcional. Um inteiro. A posição para finalizar a pesquisa. O padrão é o final da string\n"
   ]
  },
  {
   "cell_type": "raw",
   "id": "6447ba04-4ab3-473e-b3f5-a29e65c59b6e",
   "metadata": {},
   "source": [
    "Retorna TRUE (VERDADEIRO) ou FALSE (FALSO) para um teste SE a string termina com uma STRING específica."
   ]
  },
  {
   "cell_type": "code",
   "execution_count": 44,
   "id": "8c0db97c-0c2b-4632-9bbd-eabda6c308b0",
   "metadata": {},
   "outputs": [
    {
     "name": "stdout",
     "output_type": "stream",
     "text": [
      "True\n"
     ]
    }
   ],
   "source": [
    "arquivo = \"relatorio_final.docx\"\n",
    "\n",
    "docx = arquivo.endswith('.docx')\n",
    "\n",
    "print(docx)"
   ]
  },
  {
   "cell_type": "markdown",
   "id": "be44e1e3-8c55-4d31-98b9-c10247d29f24",
   "metadata": {},
   "source": [
    "## PARTITION\n",
    "\n",
    "#### SYNTAX - string.partition(value)\n",
    "\n",
    "- value - \n",
    "Obrigatório. A string a ser pesquisada"
   ]
  },
  {
   "cell_type": "raw",
   "id": "7e11a536-6e24-4022-82f4-85be3862b85f",
   "metadata": {},
   "source": [
    "Divide a string em uma tupla de três elementos: a parte antes do separador, o separador e a parte depois do separador. Útil para dividir strings em componentes principais."
   ]
  },
  {
   "cell_type": "code",
   "execution_count": 48,
   "id": "0cc4c97f-cfef-4922-b274-63bddd7f510c",
   "metadata": {},
   "outputs": [
    {
     "name": "stdout",
     "output_type": "stream",
     "text": [
      "Usuário: nayarabrabo\n",
      "Domínio: gmail.com\n"
     ]
    }
   ],
   "source": [
    "email = \"nayarabrabo@gmail.com\"\n",
    "\n",
    "usuario, separador, dominio = email.partition('@')\n",
    "\n",
    "print(f\"Usuário: {usuario}\\nDomínio: {dominio}\")"
   ]
  }
 ],
 "metadata": {
  "kernelspec": {
   "display_name": "Python 3 (ipykernel)",
   "language": "python",
   "name": "python3"
  },
  "language_info": {
   "codemirror_mode": {
    "name": "ipython",
    "version": 3
   },
   "file_extension": ".py",
   "mimetype": "text/x-python",
   "name": "python",
   "nbconvert_exporter": "python",
   "pygments_lexer": "ipython3",
   "version": "3.11.7"
  }
 },
 "nbformat": 4,
 "nbformat_minor": 5
}
